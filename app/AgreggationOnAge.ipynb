{
 "cells": [
  {
   "cell_type": "code",
   "execution_count": null,
   "id": "c80d5eb2-8fc0-419f-9dc8-2a11f3c68d05",
   "metadata": {},
   "outputs": [],
   "source": [
    "import pandas as pd\n",
    "\n",
    "# Load the dataset\n",
    "file_path = r\"C:\\Users\\yorbi\\Downloads\\DiabetesDatasets\\UpdatedCombinedDiabetesData.csv\"\n",
    "df = pd.read_csv(file_path)\n",
    "\n",
    "# Check if RIDAGEEX column exists\n",
    "if 'RIDAGEEX' in df.columns:\n",
    "    # Convert months to years, round to nearest whole number\n",
    "    # Rows with NaN in RIDAGEEX will remain NaN in Age\n",
    "    df['Age'] = (df['RIDAGEEX'] / 12).round()\n",
    "    \n",
    "    # Drop the original RIDAGEEX column\n",
    "    df.drop(columns=['RIDAGEEX'], inplace=True)\n",
    "else:\n",
    "    print(\"RIDAGEEX column not found in the dataset.\")\n",
    "\n",
    "# Save the modified DataFrame to a new CSV file\n",
    "output_path = r\"C:\\Users\\yorbi\\Downloads\\DiabetesDatasets\\FinalCombinedDiabetesDataWithAge.csv\"\n",
    "df.to_csv(output_path, index=False)\n",
    "\n",
    "print(f\"Updated data with Age column saved to {output_path}\")\n",
    "\n"
   ]
  },
  {
   "cell_type": "code",
   "execution_count": null,
   "id": "e0786909-5330-481a-9b46-77db235c7c9d",
   "metadata": {},
   "outputs": [],
   "source": []
  }
 ],
 "metadata": {
  "kernelspec": {
   "display_name": "Python 3 (ipykernel)",
   "language": "python",
   "name": "python3"
  },
  "language_info": {
   "codemirror_mode": {
    "name": "ipython",
    "version": 3
   },
   "file_extension": ".py",
   "mimetype": "text/x-python",
   "name": "python",
   "nbconvert_exporter": "python",
   "pygments_lexer": "ipython3",
   "version": "3.9.10"
  },
  "widgets": {
   "application/vnd.jupyter.widget-state+json": {
    "state": {},
    "version_major": 2,
    "version_minor": 0
   }
  }
 },
 "nbformat": 4,
 "nbformat_minor": 5
}
